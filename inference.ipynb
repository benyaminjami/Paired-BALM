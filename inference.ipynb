{
 "cells": [
  {
   "cell_type": "code",
   "execution_count": 16,
   "metadata": {},
   "outputs": [
    {
     "name": "stderr",
     "output_type": "stream",
     "text": [
      "/h/benjami/.conda/envs/CBALM/lib/python3.9/site-packages/transformers/tokenization_utils_base.py:1756: FutureWarning: Calling EsmTokenizer.from_pretrained() with the path to a single file or url is deprecated and won't be possible anymore in v5. Use a model identifier or the path to a directory instead.\n",
      "  warnings.warn(\n"
     ]
    }
   ],
   "source": [
    "from BALM.modeling_balm import BALMForMaskedLM\n",
    "from numbering import get_anarci_numbering\n",
    "from transformers import EsmTokenizer\n",
    "import torch\n",
    "\n",
    "# an antibody sequence example\n",
    "light = \"DIQMTQSPSSLSASVGDRVTITCRASQGIRNDLGWYQQKPGKAPKRLIYAASSLQSGVPSRFSGSGSGTEFTLTISSLQPEDFATYYCLQHNSYPRTFGQGTKVEIK\"\n",
    "heavy = \"EVQLLESGGGLVQPGGSLRLSCAASGFTFSSYAMSWVRQAPGKGLEWVSAISGSGGSTYYADSVKGRFTISRDNSKNTLYLQMNSLRAEDTAVYYCAKDWPFWQWLVRRGERFDYWGQGTLVTVSS\"\n",
    "input_ab = [[light, heavy]]\n",
    "\n",
    "tokenizer = EsmTokenizer.from_pretrained(\"BALM/tokenizer/vocab.txt\", do_lower_case=False, model_max_length=288)\n",
    "\n",
    "batch = tokenizer(input_ab, truncation=True, padding=\"max_length\", return_tensors=\"pt\")\n",
    "# generate position_ids\n",
    "batch.update(get_anarci_numbering(input_ab[0]))\n",
    "\n",
    "with torch.no_grad():\n",
    "    # please download from Google drive link before\n",
    "    model = BALMForMaskedLM.from_pretrained(\"./pretrained_PBALM/\")\n",
    "    # on CPU device\n",
    "    outputs = model(**batch, return_dict=True, output_hidden_states=True, output_attentions=True)\n",
    "\n",
    "    # final hidden layer representation [batch_sz * max_length * hidden_size]\n",
    "    final_hidden_layer = outputs.hidden_states[-1]\n",
    "    \n",
    "    # final hidden layer sequence representation [batch_sz * hidden_size]\n",
    "    final_seq_embedding = final_hidden_layer[:, 0, :]\n",
    "    \n",
    "    # final layer attention map [batch_sz * num_head * max_length * max_length]\n",
    "    final_attention_map = outputs.attentions[-1]"
   ]
  },
  {
   "cell_type": "code",
   "execution_count": 9,
   "metadata": {},
   "outputs": [
    {
     "data": {
      "text/plain": [
       "dict_keys(['input_ids', 'attention_mask', 'position_ids', 'chain_ids'])"
      ]
     },
     "execution_count": 9,
     "metadata": {},
     "output_type": "execute_result"
    }
   ],
   "source": [
    "batch.keys()"
   ]
  },
  {
   "cell_type": "code",
   "execution_count": 13,
   "metadata": {},
   "outputs": [
    {
     "data": {
      "text/plain": [
       "torch.Size([1, 288])"
      ]
     },
     "execution_count": 13,
     "metadata": {},
     "output_type": "execute_result"
    }
   ],
   "source": [
    "batch['chain_ids'].shape"
   ]
  }
 ],
 "metadata": {
  "kernelspec": {
   "display_name": "CBALM",
   "language": "python",
   "name": "python3"
  },
  "language_info": {
   "codemirror_mode": {
    "name": "ipython",
    "version": 3
   },
   "file_extension": ".py",
   "mimetype": "text/x-python",
   "name": "python",
   "nbconvert_exporter": "python",
   "pygments_lexer": "ipython3",
   "version": "3.9.18"
  }
 },
 "nbformat": 4,
 "nbformat_minor": 2
}
